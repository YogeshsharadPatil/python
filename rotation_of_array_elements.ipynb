{
 "cells": [
  {
   "cell_type": "code",
   "execution_count": 2,
   "metadata": {},
   "outputs": [
    {
     "name": "stdout",
     "output_type": "stream",
     "text": [
      "Array before rotation:\n",
      "[1, 2, 3, 4, 5, 6, 7]\n",
      "Array after rotation\n",
      "[5, 6, 7, 1, 2, 3, 4]\n"
     ]
    }
   ],
   "source": [
    "array = [1,2,3,4,5,6,7]\n",
    "print(\"Array before rotation:\")\n",
    "print(array)\n",
    "shift = 4\n",
    "def shifted_array(array,shift):\n",
    "    for i in range(0,shift):\n",
    "        temp = array[0]\n",
    "        for j in range(0,len(array)-1):\n",
    "            array[j] = array[j+1]\n",
    "        array[len(array)-1] = temp\n",
    "       \n",
    "    return array\n",
    "\n",
    "\n",
    "rotatedarray = shifted_array(array,shift)\n",
    "\n",
    "print(\"Array after rotation\")\n",
    "print(rotatedarray)"
   ]
  }
 ],
 "metadata": {
  "kernelspec": {
   "display_name": "Python 3",
   "language": "python",
   "name": "python3"
  },
  "language_info": {
   "codemirror_mode": {
    "name": "ipython",
    "version": 3
   },
   "file_extension": ".py",
   "mimetype": "text/x-python",
   "name": "python",
   "nbconvert_exporter": "python",
   "pygments_lexer": "ipython3",
   "version": "3.8.3"
  }
 },
 "nbformat": 4,
 "nbformat_minor": 4
}
