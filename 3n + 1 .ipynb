{
 "cells": [
  {
   "cell_type": "code",
   "execution_count": 3,
   "metadata": {},
   "outputs": [
    {
     "name": "stdout",
     "output_type": "stream",
     "text": [
      "[12, 6.0, 3.0, 10.0, 5.0, 16.0, 8.0, 4.0, 2.0, 1.0]\n",
      "[19, 58, 29.0, 88.0, 44.0, 22.0, 11.0, 34.0, 17.0, 52.0, 26.0, 13.0, 40.0, 20.0, 10.0, 5.0, 16.0, 8.0, 4.0, 2.0, 1.0]\n"
     ]
    }
   ],
   "source": [
    "#if x is even divide by 2\n",
    "#if x is odd multip[ly by 3 and 1]\n",
    "def collatz_sequence(x):\n",
    "    num_seq = [x]\n",
    "    if x < 1:\n",
    "       return []\n",
    "    while x > 1:\n",
    "       if x % 2 == 0:\n",
    "         x = x / 2\n",
    "       else:\n",
    "         x = 3 * x + 1\n",
    "    # Added line\n",
    "       num_seq.append(x)\n",
    "    return num_seq\n",
    "\n",
    "print(collatz_sequence(12))\n",
    "\n",
    "print(collatz_sequence(19))\n"
   ]
  },
  {
   "cell_type": "code",
   "execution_count": null,
   "metadata": {},
   "outputs": [],
   "source": [
    "()"
   ]
  }
 ],
 "metadata": {
  "kernelspec": {
   "display_name": "Python 3",
   "language": "python",
   "name": "python3"
  },
  "language_info": {
   "codemirror_mode": {
    "name": "ipython",
    "version": 3
   },
   "file_extension": ".py",
   "mimetype": "text/x-python",
   "name": "python",
   "nbconvert_exporter": "python",
   "pygments_lexer": "ipython3",
   "version": "3.8.3"
  }
 },
 "nbformat": 4,
 "nbformat_minor": 4
}
