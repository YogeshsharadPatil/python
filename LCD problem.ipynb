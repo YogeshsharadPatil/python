{
 "cells": [
  {
   "cell_type": "code",
   "execution_count": 2,
   "metadata": {},
   "outputs": [
    {
     "ename": "ValueError",
     "evalue": "not enough values to unpack (expected 2, got 0)",
     "output_type": "error",
     "traceback": [
      "\u001b[1;31m---------------------------------------------------------------------------\u001b[0m",
      "\u001b[1;31mValueError\u001b[0m                                Traceback (most recent call last)",
      "\u001b[1;32m<ipython-input-2-15346e187ed3>\u001b[0m in \u001b[0;36m<module>\u001b[1;34m\u001b[0m\n\u001b[0;32m     44\u001b[0m \u001b[1;32mfrom\u001b[0m \u001b[0msys\u001b[0m \u001b[1;32mimport\u001b[0m \u001b[0mstdin\u001b[0m\u001b[1;33m,\u001b[0m \u001b[0mstdout\u001b[0m\u001b[1;33m\u001b[0m\u001b[1;33m\u001b[0m\u001b[0m\n\u001b[0;32m     45\u001b[0m \u001b[1;32mwhile\u001b[0m \u001b[1;32mTrue\u001b[0m\u001b[1;33m:\u001b[0m\u001b[1;33m\u001b[0m\u001b[1;33m\u001b[0m\u001b[0m\n\u001b[1;32m---> 46\u001b[1;33m   \u001b[0mw\u001b[0m\u001b[1;33m,\u001b[0m \u001b[0mnum\u001b[0m \u001b[1;33m=\u001b[0m \u001b[0mstdin\u001b[0m\u001b[1;33m.\u001b[0m\u001b[0mreadline\u001b[0m\u001b[1;33m(\u001b[0m\u001b[1;33m)\u001b[0m\u001b[1;33m.\u001b[0m\u001b[0mstrip\u001b[0m\u001b[1;33m(\u001b[0m\u001b[1;33m)\u001b[0m\u001b[1;33m.\u001b[0m\u001b[0msplit\u001b[0m\u001b[1;33m(\u001b[0m\u001b[1;33m)\u001b[0m\u001b[1;33m\u001b[0m\u001b[1;33m\u001b[0m\u001b[0m\n\u001b[0m\u001b[0;32m     47\u001b[0m   \u001b[1;32mif\u001b[0m \u001b[0mw\u001b[0m \u001b[1;33m==\u001b[0m \u001b[1;34m\"0\"\u001b[0m\u001b[1;33m:\u001b[0m\u001b[1;33m\u001b[0m\u001b[1;33m\u001b[0m\u001b[0m\n\u001b[0;32m     48\u001b[0m     \u001b[1;32mbreak\u001b[0m\u001b[1;33m\u001b[0m\u001b[1;33m\u001b[0m\u001b[0m\n",
      "\u001b[1;31mValueError\u001b[0m: not enough values to unpack (expected 2, got 0)"
     ]
    }
   ],
   "source": [
    "# 7 Edges: top to botton and left to right\n",
    "#   __\n",
    "#  |  |\n",
    "#   __\n",
    "#  |  |\n",
    "#   --\n",
    "\n",
    "digits = {\n",
    "  \"0\": [0, 1, 2, 4, 5, 6],\n",
    "  \"1\": [2, 5],\n",
    "  \"2\": [0, 2, 3, 4, 6],\n",
    "  \"3\": [0, 2, 3, 5, 6],\n",
    "  \"4\": [1, 2, 3, 5],\n",
    "  \"5\": [0, 1, 3, 5, 6],\n",
    "  \"6\": [0, 1, 3, 4, 5, 6],\n",
    "  \"7\": [0, 2, 5],\n",
    "  \"8\": [0, 1, 2, 3, 4, 5, 6],\n",
    "  \"9\": [0, 1, 2, 3, 5, 6],\n",
    "}\n",
    "\n",
    "def draw_digit(board, index, value, width):\n",
    "  start_col = index*(width+2) + index\n",
    "  for edge in digits[value]:\n",
    "    if edge == 0:\n",
    "      board[0][start_col+1:start_col+1+width] = ['-']*width\n",
    "    elif edge == 1:\n",
    "      for i in range(1, w+1):\n",
    "        board[i][start_col] = \"|\"\n",
    "    elif edge == 2:\n",
    "      for i in range(1, w+1):\n",
    "        board[i][start_col+1+w] = \"|\"\n",
    "    elif edge == 3:\n",
    "      board[w+1][start_col+1:start_col+1+width] = ['-']*width\n",
    "    elif edge == 4:\n",
    "      for i in range(1, w+1):\n",
    "        board[i + w + 1][start_col] = \"|\"\n",
    "    elif edge == 5:\n",
    "      for i in range(1, w+1):\n",
    "        board[i + w + 1][start_col+1+w] = \"|\"\n",
    "    elif edge == 6:\n",
    "      board[2*w+2][start_col+1:start_col+1+width] = ['-']*width\n",
    "    \n",
    "\n",
    "from sys import stdin, stdout\n",
    "while True:\n",
    "  w, num = stdin.readline().strip().split()\n",
    "  if w == \"0\":\n",
    "    break\n",
    "\n",
    "  w = int(w)\n",
    "\n",
    "  word_len = len(num) * (w+2) + len(num) - 1\n",
    "  board = [[\" \"]*(word_len) for i in range(2*w+3) ]\n",
    "\n",
    "  for i,digit in enumerate(num):\n",
    "    draw_digit(board, i, digit, w)\n",
    "  \n",
    "  stdout.write(\"\\n\".join([\"\".join(b) for b in board]) + \"\\n\\n\")"
   ]
  }
 ],
 "metadata": {
  "kernelspec": {
   "display_name": "Python 3",
   "language": "python",
   "name": "python3"
  },
  "language_info": {
   "codemirror_mode": {
    "name": "ipython",
    "version": 3
   },
   "file_extension": ".py",
   "mimetype": "text/x-python",
   "name": "python",
   "nbconvert_exporter": "python",
   "pygments_lexer": "ipython3",
   "version": "3.8.3"
  }
 },
 "nbformat": 4,
 "nbformat_minor": 4
}
