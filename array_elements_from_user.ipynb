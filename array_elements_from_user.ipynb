{
 "cells": [
  {
   "cell_type": "code",
   "execution_count": 1,
   "metadata": {},
   "outputs": [
    {
     "name": "stdout",
     "output_type": "stream",
     "text": [
      "Enter the length of the array: 5\n",
      "Enter next value in array: 6\n",
      "Enter next value in array: 6\n",
      "Enter next value in array: 12\n",
      "Enter next value in array: 2\n",
      "Enter next value in array: 3\n",
      "array('i', [6, 6, 12, 2, 3])\n"
     ]
    }
   ],
   "source": [
    "from array import *\n",
    "arr = array('i',[])\n",
    "n = int(input(\"Enter the length of the array: \"))\n",
    "for i in range(n):\n",
    "    x = int(input(\"Enter next value in array: \"))\n",
    "    arr.append(x)\n",
    "print(arr)"
   ]
  },
  {
   "cell_type": "code",
   "execution_count": 9,
   "metadata": {},
   "outputs": [
    {
     "name": "stdout",
     "output_type": "stream",
     "text": [
      "Enter the size of the array 1\n",
      "Enter next value in the array1\n",
      "array('f', [1.0])\n"
     ]
    }
   ],
   "source": [
    "import array as arr\n",
    "arr = arr.array('f',[])\n",
    "n = int(input(\"Enter the size of the array \"))\n",
    "for i in range(n):\n",
    "    x = int(input(\"Enter next value in the array\"))\n",
    "    arr.append(x)\n",
    "print(arr)"
   ]
  },
  {
   "cell_type": "code",
   "execution_count": null,
   "metadata": {},
   "outputs": [],
   "source": []
  }
 ],
 "metadata": {
  "kernelspec": {
   "display_name": "Python 3",
   "language": "python",
   "name": "python3"
  },
  "language_info": {
   "codemirror_mode": {
    "name": "ipython",
    "version": 3
   },
   "file_extension": ".py",
   "mimetype": "text/x-python",
   "name": "python",
   "nbconvert_exporter": "python",
   "pygments_lexer": "ipython3",
   "version": "3.8.3"
  }
 },
 "nbformat": 4,
 "nbformat_minor": 4
}
