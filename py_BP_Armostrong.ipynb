{
 "cells": [
  {
   "cell_type": "code",
   "execution_count": 2,
   "metadata": {},
   "outputs": [
    {
     "name": "stdout",
     "output_type": "stream",
     "text": [
      "Enter a Number :123\n",
      "123 is not an armostrong number :\n"
     ]
    }
   ],
   "source": [
    "n = int(input(\"Enter a Number :\"))\n",
    "copy_n = n\n",
    "power = len(str(n))\n",
    "sum = 0\n",
    "while(n>0):\n",
    "    digit = n % 10\n",
    "    sum = sum + digit**power\n",
    "    n = n // 10\n",
    "    \n",
    "\n",
    "    \n",
    "if (sum == copy_n) :\n",
    "    print(\"{} is an armostrong number :\".format(copy_n))\n",
    "else :\n",
    "    print(\"{} is not an armostrong number :\".format(copy_n))"
   ]
  },
  {
   "cell_type": "code",
   "execution_count": null,
   "metadata": {},
   "outputs": [],
   "source": [
    "\n"
   ]
  },
  {
   "cell_type": "code",
   "execution_count": null,
   "metadata": {},
   "outputs": [],
   "source": []
  }
 ],
 "metadata": {
  "kernelspec": {
   "display_name": "Python 3",
   "language": "python",
   "name": "python3"
  },
  "language_info": {
   "codemirror_mode": {
    "name": "ipython",
    "version": 3
   },
   "file_extension": ".py",
   "mimetype": "text/x-python",
   "name": "python",
   "nbconvert_exporter": "python",
   "pygments_lexer": "ipython3",
   "version": "3.8.3"
  }
 },
 "nbformat": 4,
 "nbformat_minor": 4
}
