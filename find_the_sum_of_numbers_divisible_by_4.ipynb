{
 "cells": [
  {
   "cell_type": "code",
   "execution_count": 2,
   "metadata": {},
   "outputs": [
    {
     "name": "stdout",
     "output_type": "stream",
     "text": [
      "Enter number: 8\n",
      "Do you want to continue,Enter choice: \n",
      "Yes\n",
      "Enter number: 16\n",
      "Do you want to continue,Enter choice: \n",
      "No\n",
      "sum is 24\n"
     ]
    }
   ],
   "source": [
    "choice = \"Yes\"\n",
    "sum = 0\n",
    "while(choice == 'Yes'):\n",
    "    number = int(input(\"Enter number: \"))\n",
    "    if(number%4==0):\n",
    "        sum = sum + number\n",
    "    print(\"Do you want to continue,Enter choice: \")\n",
    "    choice = input(\"\")\n",
    "    \n",
    "    \n",
    "print(\"sum is {}\".format(sum))\n"
   ]
  },
  {
   "cell_type": "code",
   "execution_count": 4,
   "metadata": {},
   "outputs": [
    {
     "name": "stdout",
     "output_type": "stream",
     "text": [
      "Up to how many no. that are devisible 4 do you want the sum4\n",
      "Enter a number: 3\n",
      "Enter a number: 2\n",
      "Enter a number: 4\n",
      "Enter a number: 4\n",
      "Enter a number: 4\n",
      "Enter a number: 4\n",
      "16\n"
     ]
    }
   ],
   "source": [
    "x = int(input(\"Up to how many no. that are devisible 4 do you want the sum\"))\n",
    "i=0\n",
    "sum = 0\n",
    "while(i<x):\n",
    "    n = int(input(\"Enter a number: \"))\n",
    "    if (n%4==0):\n",
    "        sum = sum + n\n",
    "        i = i+1\n",
    "\n",
    "print(\"\")\n",
    "    "
   ]
  },
  {
   "cell_type": "code",
   "execution_count": null,
   "metadata": {},
   "outputs": [],
   "source": []
  }
 ],
 "metadata": {
  "kernelspec": {
   "display_name": "Python 3",
   "language": "python",
   "name": "python3"
  },
  "language_info": {
   "codemirror_mode": {
    "name": "ipython",
    "version": 3
   },
   "file_extension": ".py",
   "mimetype": "text/x-python",
   "name": "python",
   "nbconvert_exporter": "python",
   "pygments_lexer": "ipython3",
   "version": "3.8.3"
  }
 },
 "nbformat": 4,
 "nbformat_minor": 4
}
