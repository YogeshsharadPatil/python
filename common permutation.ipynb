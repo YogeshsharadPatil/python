{
 "cells": [
  {
   "cell_type": "code",
   "execution_count": 2,
   "metadata": {},
   "outputs": [
    {
     "name": "stdout",
     "output_type": "stream",
     "text": [
      "xxx\n",
      "yyxx\n",
      "\n",
      "xxx\n"
     ]
    }
   ],
   "source": [
    "Final_answer = []\n",
    "\n",
    "while(True):\n",
    "    count = 0\n",
    "    temp = []\n",
    "    str1 = str()\n",
    "    a = list(input())\n",
    "    try:\n",
    "        a[0]\n",
    "    except:\n",
    "        break\n",
    "    b = list(input())\n",
    "\n",
    "    \n",
    "    for i in a:\n",
    "        count=0\n",
    "        for j in b:\n",
    "            if(i==j):\n",
    "                count+=1\n",
    "        if(count>0):\n",
    "            temp.append(i)\n",
    "\n",
    "    for i in range(0,len(temp)):\n",
    "        for j in range(i,len(temp)):\n",
    "            if(ord(temp[i])<ord(temp[j])):\n",
    "                a = temp[j]\n",
    "                temp[j] = temp[i]\n",
    "                temp[i] = a\n",
    "\n",
    "\n",
    "    Final_answer.append(str1.join(temp))\n",
    "\n",
    "\n",
    "for i in Final_answer:\n",
    "    print(i)\n"
   ]
  },
  {
   "cell_type": "code",
   "execution_count": null,
   "metadata": {},
   "outputs": [],
   "source": []
  }
 ],
 "metadata": {
  "kernelspec": {
   "display_name": "Python 3",
   "language": "python",
   "name": "python3"
  },
  "language_info": {
   "codemirror_mode": {
    "name": "ipython",
    "version": 3
   },
   "file_extension": ".py",
   "mimetype": "text/x-python",
   "name": "python",
   "nbconvert_exporter": "python",
   "pygments_lexer": "ipython3",
   "version": "3.8.3"
  }
 },
 "nbformat": 4,
 "nbformat_minor": 4
}
