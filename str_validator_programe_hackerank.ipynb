{
 "cells": [
  {
   "cell_type": "code",
   "execution_count": 1,
   "metadata": {},
   "outputs": [
    {
     "name": "stdout",
     "output_type": "stream",
     "text": [
      "jsbhvAVJHvd3\n",
      "True\n",
      "True\n",
      "True\n",
      "True\n",
      "True\n"
     ]
    }
   ],
   "source": [
    "if __name__ == '__main__':\n",
    "    s = input()\n",
    "    for i in s:\n",
    "        x = \"False\"\n",
    "        if i.isalnum():\n",
    "            x = \"True\"\n",
    "            break\n",
    "    print(x)\n",
    "    for i in s:\n",
    "        x = \"False\"\n",
    "        if i.isalpha():\n",
    "            x = \"True\"\n",
    "            break\n",
    "    print(x)\n",
    "    for i in s:\n",
    "        x = \"False\"\n",
    "        if i.isdigit():\n",
    "            x = \"True\"\n",
    "            break\n",
    "    print(x)\n",
    "    for i in s:\n",
    "        x = \"False\"\n",
    "        if i.islower():\n",
    "            x = \"True\"\n",
    "            break\n",
    "    print(x)\n",
    "    for i in s:\n",
    "        x = \"False\"\n",
    "        if i.isupper():\n",
    "            x = \"True\"\n",
    "            break\n",
    "    print(x)"
   ]
  },
  {
   "cell_type": "code",
   "execution_count": null,
   "metadata": {},
   "outputs": [],
   "source": [
    "s = input()\n",
    "print(any([char.isalnum() for char in s]))\n",
    "print(any([char.isalpha() for char in s]))\n",
    "print(any([char.isdigit() for char in s]))\n",
    "print(any([char.islower() for char in s]))\n",
    "print(any([char.isupper() for char in s]))"
   ]
  },
  {
   "cell_type": "code",
   "execution_count": null,
   "metadata": {},
   "outputs": [],
   "source": []
  },
  {
   "cell_type": "code",
   "execution_count": null,
   "metadata": {},
   "outputs": [],
   "source": []
  }
 ],
 "metadata": {
  "kernelspec": {
   "display_name": "Python 3",
   "language": "python",
   "name": "python3"
  },
  "language_info": {
   "codemirror_mode": {
    "name": "ipython",
    "version": 3
   },
   "file_extension": ".py",
   "mimetype": "text/x-python",
   "name": "python",
   "nbconvert_exporter": "python",
   "pygments_lexer": "ipython3",
   "version": "3.8.3"
  }
 },
 "nbformat": 4,
 "nbformat_minor": 4
}
