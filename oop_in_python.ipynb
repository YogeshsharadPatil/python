{
 "cells": [
  {
   "cell_type": "code",
   "execution_count": 9,
   "metadata": {},
   "outputs": [
    {
     "name": "stdout",
     "output_type": "stream",
     "text": [
      "ideapad s145 , 1TB,256SSD,i5,8th gen\n",
      "ideapad s145 , 1TB,256SSD,i5,8th gen\n"
     ]
    }
   ],
   "source": [
    "class Computer:\n",
    "    def config(self):\n",
    "        print(\"ideapad s145 , 1TB,256SSD,i5,8th gen\")\n",
    "        \n",
    "        \n",
    "        \n",
    "        \n",
    "com1=Computer()#declaration of object \n",
    "#2 ways of calling object \n",
    "\n",
    "Computer.config(com1)#calling object as passing parameters and accesing all parameters in a class\n",
    "                                                            \n",
    "com1.config()#calling fn with the help of object and accesing all the parameters #this is better way\n",
    "\n",
    "        "
   ]
  },
  {
   "cell_type": "code",
   "execution_count": null,
   "metadata": {},
   "outputs": [],
   "source": []
  }
 ],
 "metadata": {
  "kernelspec": {
   "display_name": "Python 3",
   "language": "python",
   "name": "python3"
  },
  "language_info": {
   "codemirror_mode": {
    "name": "ipython",
    "version": 3
   },
   "file_extension": ".py",
   "mimetype": "text/x-python",
   "name": "python",
   "nbconvert_exporter": "python",
   "pygments_lexer": "ipython3",
   "version": "3.8.3"
  }
 },
 "nbformat": 4,
 "nbformat_minor": 4
}
