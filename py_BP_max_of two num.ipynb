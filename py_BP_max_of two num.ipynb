{
 "cells": [
  {
   "cell_type": "markdown",
   "metadata": {},
   "source": [
    "#### Maximum of two numbers"
   ]
  },
  {
   "cell_type": "code",
   "execution_count": 4,
   "metadata": {},
   "outputs": [
    {
     "name": "stdout",
     "output_type": "stream",
     "text": [
      "Enter value of a :78\n",
      "Enter value of b :89\n",
      "89\n",
      "None\n"
     ]
    }
   ],
   "source": [
    "a = int(input(\"Enter value of a :\"))\n",
    "b = int(input(\"Enter value of b :\"))\n",
    "def maximum(a,b):\n",
    "    if a>b:\n",
    "        print(a)\n",
    "    elif a<b:\n",
    "        print(b)\n",
    "    elif a==b:\n",
    "        print(\"Both are equal\")\n",
    "    else :\n",
    "        pass\n",
    "\n",
    "        \n",
    "print(maximum(a,b))"
   ]
  },
  {
   "cell_type": "code",
   "execution_count": 6,
   "metadata": {},
   "outputs": [
    {
     "name": "stdout",
     "output_type": "stream",
     "text": [
      "Enter value of a :5\n",
      "Enter value of b :6\n",
      "Maximum no. between 5 and 6 is 6\n"
     ]
    }
   ],
   "source": [
    "# using maximum fn\n",
    "a = int(input(\"Enter value of a :\"))\n",
    "b = int(input(\"Enter value of b :\"))\n",
    "maximum=max(a,b)\n",
    "print(\"Maximum no. between {} and {} is {}\".format(a,b,maximum))"
   ]
  },
  {
   "cell_type": "code",
   "execution_count": null,
   "metadata": {},
   "outputs": [],
   "source": []
  }
 ],
 "metadata": {
  "kernelspec": {
   "display_name": "Python 3",
   "language": "python",
   "name": "python3"
  },
  "language_info": {
   "codemirror_mode": {
    "name": "ipython",
    "version": 3
   },
   "file_extension": ".py",
   "mimetype": "text/x-python",
   "name": "python",
   "nbconvert_exporter": "python",
   "pygments_lexer": "ipython3",
   "version": "3.8.3"
  }
 },
 "nbformat": 4,
 "nbformat_minor": 4
}
