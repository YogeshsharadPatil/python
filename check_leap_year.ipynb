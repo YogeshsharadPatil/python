{
 "cells": [
  {
   "cell_type": "code",
   "execution_count": 13,
   "metadata": {},
   "outputs": [
    {
     "name": "stdout",
     "output_type": "stream",
     "text": [
      "Enter year 100\n",
      "100 is not a leap year\n"
     ]
    }
   ],
   "source": [
    "yr=int(input(\"Enter year \"))\n",
    "if(yr%4==0 and yr%100!=0):\n",
    "    print(\"{} is a leap year\".format(yr))\n",
    "elif(yr%400==0):\n",
    "    print(\"{} is a leap year\".format(yr))\n",
    "else:\n",
    "    print(\"{} is not a leap year\".format(yr))\n"
   ]
  },
  {
   "cell_type": "code",
   "execution_count": 5,
   "metadata": {},
   "outputs": [
    {
     "name": "stdout",
     "output_type": "stream",
     "text": [
      "Enter the year to check: 200\n",
      "200 is not an leap year\n"
     ]
    }
   ],
   "source": [
    "year = int(input(\"Enter the year to check: \"))\n",
    "if year % 4 ==0:\n",
    "    if year % 100 ==0:\n",
    "        if year % 400 == 0:\n",
    "            print(\"{} is an leap year\".format(year))\n",
    "        else:\n",
    "            print(\"{} is not an leap year\".format(year))\n",
    "    else:\n",
    "        print(\"{} is an leap year\".format(year))\n",
    "else:\n",
    "    print(\"{} is not an leap year\")"
   ]
  },
  {
   "cell_type": "code",
   "execution_count": null,
   "metadata": {},
   "outputs": [],
   "source": []
  },
  {
   "cell_type": "code",
   "execution_count": null,
   "metadata": {},
   "outputs": [],
   "source": []
  }
 ],
 "metadata": {
  "kernelspec": {
   "display_name": "Python 3",
   "language": "python",
   "name": "python3"
  },
  "language_info": {
   "codemirror_mode": {
    "name": "ipython",
    "version": 3
   },
   "file_extension": ".py",
   "mimetype": "text/x-python",
   "name": "python",
   "nbconvert_exporter": "python",
   "pygments_lexer": "ipython3",
   "version": "3.8.3"
  }
 },
 "nbformat": 4,
 "nbformat_minor": 4
}
