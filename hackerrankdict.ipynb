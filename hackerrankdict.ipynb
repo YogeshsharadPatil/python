{
 "cells": [
  {
   "cell_type": "code",
   "execution_count": 6,
   "metadata": {},
   "outputs": [
    {
     "name": "stdout",
     "output_type": "stream",
     "text": [
      "no. of students...1\n",
      "name m\n",
      "enter 4 5 6\n",
      "{'m': [4.0, 5.0, 6.0]}\n",
      "q.namem\n",
      "5.0\n"
     ]
    }
   ],
   "source": [
    "n = int(input(\"no. of students...\"))\n",
    "student_marks = {}\n",
    "for x in range(n):\n",
    "    name = input(\"name \")\n",
    "    scores = list(map(float, input(\"enter \").split()))\n",
    "    student_marks[name] = scores\n",
    "print(student_marks)\n",
    "query_name = input(\"q.name\")\n",
    "query_scores = student_marks[query_name]\n",
    "summ = sum(query_scores)\n",
    "lent = len(query_scores)\n",
    "avg = summ/lent\n",
    "print(avg)\n",
    "    \n",
    "    "
   ]
  },
  {
   "cell_type": "code",
   "execution_count": null,
   "metadata": {},
   "outputs": [],
   "source": []
  }
 ],
 "metadata": {
  "kernelspec": {
   "display_name": "Python 3",
   "language": "python",
   "name": "python3"
  },
  "language_info": {
   "codemirror_mode": {
    "name": "ipython",
    "version": 3
   },
   "file_extension": ".py",
   "mimetype": "text/x-python",
   "name": "python",
   "nbconvert_exporter": "python",
   "pygments_lexer": "ipython3",
   "version": "3.8.3"
  }
 },
 "nbformat": 4,
 "nbformat_minor": 4
}
