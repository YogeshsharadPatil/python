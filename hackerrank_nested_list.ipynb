{
 "cells": [
  {
   "cell_type": "code",
   "execution_count": 1,
   "metadata": {},
   "outputs": [
    {
     "name": "stdout",
     "output_type": "stream",
     "text": [
      "5\n",
      "harry\n",
      "37.21\n",
      "berry\n",
      "37.21\n",
      "Tna\n",
      "37.2\n",
      "art\n",
      "41\n",
      "harsh\n",
      "39\n",
      "berry\n",
      "harry\n"
     ]
    }
   ],
   "source": [
    "if __name__ == '__main__':\n",
    "    total = []\n",
    "    for i in range(int(input())):\n",
    "        name = input()\n",
    "        score = float(input())\n",
    "        name_score = list((score, name))\n",
    "        total.append(name_score)\n",
    "    total.sort()\n",
    "    min_mark = total[0][0]\n",
    "    count = 0\n",
    "    for i in range(len(total)):\n",
    "        if min_mark == total[i][0]:\n",
    "            count = count+1\n",
    "    if count >= 1:\n",
    "        for j in range(count):\n",
    "            total.pop(0)\n",
    "    nd_min_mark = total[0][0]\n",
    "    for i in range(len(total)):\n",
    "        if nd_min_mark == total[i][0]:\n",
    "            print(total[i][1])"
   ]
  },
  {
   "cell_type": "code",
   "execution_count": null,
   "metadata": {},
   "outputs": [],
   "source": []
  }
 ],
 "metadata": {
  "kernelspec": {
   "display_name": "Python 3",
   "language": "python",
   "name": "python3"
  },
  "language_info": {
   "codemirror_mode": {
    "name": "ipython",
    "version": 3
   },
   "file_extension": ".py",
   "mimetype": "text/x-python",
   "name": "python",
   "nbconvert_exporter": "python",
   "pygments_lexer": "ipython3",
   "version": "3.8.3"
  }
 },
 "nbformat": 4,
 "nbformat_minor": 4
}
