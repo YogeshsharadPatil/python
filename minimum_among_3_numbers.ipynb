{
 "cells": [
  {
   "cell_type": "code",
   "execution_count": 9,
   "metadata": {},
   "outputs": [
    {
     "name": "stdout",
     "output_type": "stream",
     "text": [
      "Enter three numbers 700 22 500\n",
      "22 is smallest among three numbers\n"
     ]
    }
   ],
   "source": [
    "num1,num2,num3 = list(map(int,input(\"Enter three numbers \").split()))\n",
    "if (num1<num2):\n",
    "    if(num1<num3):\n",
    "        print(\"{} is smallest among three numbers\".format(num1))\n",
    "    else:\n",
    "        print(\"{} is smallest among three numbers\".format(num3))\n",
    "elif(num2<num3):\n",
    "    print(\"{} is smallest among three numbers\".format(num2))\n",
    "else:\n",
    "    print(\"{} is smallest among three numbers\".format(num3))"
   ]
  },
  {
   "cell_type": "code",
   "execution_count": null,
   "metadata": {},
   "outputs": [],
   "source": []
  },
  {
   "cell_type": "code",
   "execution_count": null,
   "metadata": {},
   "outputs": [],
   "source": []
  }
 ],
 "metadata": {
  "kernelspec": {
   "display_name": "Python 3",
   "language": "python",
   "name": "python3"
  },
  "language_info": {
   "codemirror_mode": {
    "name": "ipython",
    "version": 3
   },
   "file_extension": ".py",
   "mimetype": "text/x-python",
   "name": "python",
   "nbconvert_exporter": "python",
   "pygments_lexer": "ipython3",
   "version": "3.8.3"
  }
 },
 "nbformat": 4,
 "nbformat_minor": 4
}
