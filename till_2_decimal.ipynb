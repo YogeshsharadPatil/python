{
 "cells": [
  {
   "cell_type": "code",
   "execution_count": 3,
   "metadata": {},
   "outputs": [
    {
     "name": "stdout",
     "output_type": "stream",
     "text": [
      "22.2222\n",
      "The value of number till 2 decimal place(using round()) is : 22.22\n",
      "22.22\n"
     ]
    }
   ],
   "source": [
    "# using round() to print value till 2 decimal places \n",
    "a = float(input())\n",
    "print (\"The value of number till 2 decimal place(using round()) is : \",end=\"\")\n",
    "print (round(a,2))\n",
    "print (\"{0:.2f}\".format(a))\n"
   ]
  },
  {
   "cell_type": "code",
   "execution_count": null,
   "metadata": {},
   "outputs": [],
   "source": []
  }
 ],
 "metadata": {
  "kernelspec": {
   "display_name": "Python 3",
   "language": "python",
   "name": "python3"
  },
  "language_info": {
   "codemirror_mode": {
    "name": "ipython",
    "version": 3
   },
   "file_extension": ".py",
   "mimetype": "text/x-python",
   "name": "python",
   "nbconvert_exporter": "python",
   "pygments_lexer": "ipython3",
   "version": "3.8.3"
  }
 },
 "nbformat": 4,
 "nbformat_minor": 4
}
