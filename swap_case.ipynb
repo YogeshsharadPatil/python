{
 "cells": [
  {
   "cell_type": "code",
   "execution_count": 4,
   "metadata": {},
   "outputs": [
    {
     "name": "stdout",
     "output_type": "stream",
     "text": [
      "ehfugwfyugewgfhh hugfewbfy HUGUh 8\n",
      "EHFUGWFYUGEWGFHH HUGFEWBFY huguH 8\n"
     ]
    }
   ],
   "source": [
    "def swap_case(s):\n",
    "    new_string = ''\n",
    "    for x in s:\n",
    "        if x.isupper()==True:\n",
    "            new_string=new_string + x.lower()\n",
    "        elif x.islower()==True:\n",
    "            new_string=new_string + x.upper()\n",
    "        elif x.isspace()==True:\n",
    "            new_string = new_string + x\n",
    "        else:\n",
    "            new_string = new_string + x\n",
    "        \n",
    "            \n",
    "    return new_string\n",
    "\n",
    "if __name__ == '__main__':\n",
    "    s = input()\n",
    "    result = swap_case(s)\n",
    "    print(result)"
   ]
  }
 ],
 "metadata": {
  "kernelspec": {
   "display_name": "Python 3",
   "language": "python",
   "name": "python3"
  },
  "language_info": {
   "codemirror_mode": {
    "name": "ipython",
    "version": 3
   },
   "file_extension": ".py",
   "mimetype": "text/x-python",
   "name": "python",
   "nbconvert_exporter": "python",
   "pygments_lexer": "ipython3",
   "version": "3.8.3"
  }
 },
 "nbformat": 4,
 "nbformat_minor": 4
}
