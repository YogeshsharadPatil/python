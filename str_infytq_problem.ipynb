{
 "cells": [
  {
   "cell_type": "code",
   "execution_count": 2,
   "metadata": {},
   "outputs": [
    {
     "name": "stdout",
     "output_type": "stream",
     "text": [
      "['AI:Ban:Lon:103', 'AI:Ban:Lon:104', 'AI:Ban:Lon:105', 'AI:Ban:Lon:106', 'AI:Ban:Lon:107']\n"
     ]
    }
   ],
   "source": [
    "def generate_ticket(airline,source,destination,no_of_passengers):\n",
    "    ticket_number_list=[]\n",
    "    count=101\n",
    "    for i in range (0,no_of_passengers):\n",
    "        src=source[0:3]\n",
    "        des=destination[0:3]\n",
    "        ticket_number_list.append(airline+\":\"+src+\":\"+des+\":\"+str(count))\n",
    "        count+=1\n",
    "    if(no_of_passengers<5):\n",
    "        return ticket_number_list\n",
    "    else:\n",
    "        return ticket_number_list[-5:]\n",
    "\n",
    "#Provide different values for airline,source,destination,no_of_passengers and test your program\n",
    "\n",
    "print(generate_ticket(\"AI\",\"Bangalore\",\"London\",7))"
   ]
  },
  {
   "cell_type": "code",
   "execution_count": null,
   "metadata": {},
   "outputs": [],
   "source": []
  }
 ],
 "metadata": {
  "kernelspec": {
   "display_name": "Python 3",
   "language": "python",
   "name": "python3"
  },
  "language_info": {
   "codemirror_mode": {
    "name": "ipython",
    "version": 3
   },
   "file_extension": ".py",
   "mimetype": "text/x-python",
   "name": "python",
   "nbconvert_exporter": "python",
   "pygments_lexer": "ipython3",
   "version": "3.8.3"
  }
 },
 "nbformat": 4,
 "nbformat_minor": 4
}
