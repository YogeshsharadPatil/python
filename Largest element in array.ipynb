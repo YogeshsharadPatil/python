{
 "cells": [
  {
   "cell_type": "code",
   "execution_count": 7,
   "metadata": {},
   "outputs": [
    {
     "name": "stdout",
     "output_type": "stream",
     "text": [
      "Enter the length of the array: 3\n",
      "Enter next  value in array2\n",
      "Enter next  value in array3\n",
      "Enter next  value in array4\n",
      "array('i', [2, 3, 4])\n"
     ]
    }
   ],
   "source": [
    "from array import *\n",
    "\n",
    "arr = array('i',[])\n",
    "\n",
    "n = int(input(\"Enter the length of the array: \"))\n",
    "\n",
    "for i in range(n):\n",
    "    x = int(input(\"Enter next  value in array\"))\n",
    "    arr.append(x)\n",
    "    \n",
    "    \n",
    "print(arr)"
   ]
  },
  {
   "cell_type": "code",
   "execution_count": 13,
   "metadata": {},
   "outputs": [
    {
     "name": "stdout",
     "output_type": "stream",
     "text": [
      "Enter the length of the array: 3\n",
      "Enter next value in array: 1\n",
      "Enter next value in array: 2\n",
      "Enter next value in array: 3\n",
      "array('i', [1, 2, 3])\n",
      "Largest element in array is:-  3\n"
     ]
    }
   ],
   "source": [
    "from array import *\n",
    "arr = array('i',[])\n",
    "n = int(input(\"Enter the length of the array: \"))\n",
    "for i in range(n):\n",
    "    x = int(input(\"Enter next value in array: \"))\n",
    "    arr.append(x)\n",
    "print(arr)\n",
    "max = arr[0]\n",
    "for i in range(1,n):\n",
    "    if arr[i]>max:\n",
    "        max = arr[i]\n",
    "print(\"Largest element in array is:- \",max)"
   ]
  },
  {
   "cell_type": "code",
   "execution_count": null,
   "metadata": {},
   "outputs": [],
   "source": []
  }
 ],
 "metadata": {
  "kernelspec": {
   "display_name": "Python 3",
   "language": "python",
   "name": "python3"
  },
  "language_info": {
   "codemirror_mode": {
    "name": "ipython",
    "version": 3
   },
   "file_extension": ".py",
   "mimetype": "text/x-python",
   "name": "python",
   "nbconvert_exporter": "python",
   "pygments_lexer": "ipython3",
   "version": "3.8.3"
  }
 },
 "nbformat": 4,
 "nbformat_minor": 4
}
