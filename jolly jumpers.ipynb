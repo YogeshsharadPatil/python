{
 "cells": [
  {
   "cell_type": "code",
   "execution_count": 7,
   "metadata": {},
   "outputs": [
    {
     "name": "stdout",
     "output_type": "stream",
     "text": [
      "1 4 2 3\n",
      "Jolly\n"
     ]
    }
   ],
   "source": [
    "values = list(map(int,input().split(\" \")))\n",
    "n = len(values)\n",
    "x = []\n",
    "\n",
    "def isJolly(values, n):\n",
    "    for i in range(0,n-1):\n",
    "        d = abs(values[i]-values[i+1])\n",
    "        if (d == 0 or d > n-1 or d in x):\n",
    "            return False\n",
    "        else:\n",
    "            x.append(d)\n",
    "    return True\n",
    "        \n",
    "if isJolly(values, n):\n",
    "    print(\"Jolly\")\n",
    "    \n",
    "else:\n",
    "    print(\"Not Jolly\")\n",
    "    "
   ]
  },
  {
   "cell_type": "code",
   "execution_count": null,
   "metadata": {},
   "outputs": [],
   "source": []
  }
 ],
 "metadata": {
  "kernelspec": {
   "display_name": "Python 3",
   "language": "python",
   "name": "python3"
  },
  "language_info": {
   "codemirror_mode": {
    "name": "ipython",
    "version": 3
   },
   "file_extension": ".py",
   "mimetype": "text/x-python",
   "name": "python",
   "nbconvert_exporter": "python",
   "pygments_lexer": "ipython3",
   "version": "3.8.3"
  }
 },
 "nbformat": 4,
 "nbformat_minor": 4
}
