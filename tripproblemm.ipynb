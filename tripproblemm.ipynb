{
 "cells": [
  {
   "cell_type": "code",
   "execution_count": null,
   "metadata": {},
   "outputs": [],
   "source": [
    "main_list = []\n",
    "l1 = []\n",
    "l2 = []\n",
    "avg = 0\n",
    "total = 0\n",
    "\n",
    "n = int(input())\n",
    "\n",
    "if(n%2==0):\n",
    "    m = n/2\n",
    "\n",
    "for i in range(0,n):\n",
    "    l1.append(float(input()))\n",
    "    avg+=l1[i]\n",
    "\n",
    "avg = avg/n\n",
    "\n",
    "def diff(x,n):\n",
    "    if(x>n):\n",
    "        return x-n\n",
    "    else:\n",
    "        return n-x\n",
    "\n",
    "for i in range(0,n):\n",
    "    difference = diff(l1[i],avg)\n",
    "    if difference in l2:\n",
    "        continue\n",
    "    else:\n",
    "        l2.append(difference)\n",
    "\n",
    "for i in l2:\n",
    "    total = total + i\n",
    "    \n",
    "if(n%2==0):\n",
    "    total = total / m\n",
    "\n",
    "print(\"amount of exchange = \",total)"
   ]
  }
 ],
 "metadata": {
  "kernelspec": {
   "display_name": "Python 3",
   "language": "python",
   "name": "python3"
  },
  "language_info": {
   "codemirror_mode": {
    "name": "ipython",
    "version": 3
   },
   "file_extension": ".py",
   "mimetype": "text/x-python",
   "name": "python",
   "nbconvert_exporter": "python",
   "pygments_lexer": "ipython3",
   "version": "3.8.3"
  }
 },
 "nbformat": 4,
 "nbformat_minor": 4
}
