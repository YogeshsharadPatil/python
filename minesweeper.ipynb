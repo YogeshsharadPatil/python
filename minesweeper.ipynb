{
 "cells": [
  {
   "cell_type": "code",
   "execution_count": 1,
   "metadata": {},
   "outputs": [
    {
     "name": "stdout",
     "output_type": "stream",
     "text": [
      "1\tX\t1\t0\t0\n",
      "\n",
      "1\t1\t1\t0\t0\n",
      "\n",
      "0\t0\t0\t1\t1\n",
      "\n",
      "0\t0\t0\t1\tX\n",
      "\n",
      "0\t0\t0\t1\t1\n",
      "\n"
     ]
    }
   ],
   "source": [
    "import random\n",
    "def minesweeper(n):\n",
    "    arr = [[0 for row in range(n)] for column in range(n)]\n",
    "    for num in range(2):\n",
    "        x = random.randint(0,4)\n",
    "        y = random.randint(0,4)\n",
    "        arr[y][x] = 'X'\n",
    "        if (x >=0 and x <= 3) and (y >= 0 and y <= 4):\n",
    "            arr[y][x+1] += 1 # center right\n",
    "        if (x >=1 and x <= 4) and (y >= 0 and y <= 4):\n",
    "            arr[y][x-1] += 1 # center left\n",
    "        if (x >= 1 and x <= 4) and (y >= 1 and y <= 4):\n",
    "            if arr[y-1][x-1] != 'X':\n",
    "                arr[y-1][x-1] += 1 # top left\n",
    " \n",
    "        if (x >= 0 and x <= 3) and (y >= 1 and y <= 4):\n",
    "            if arr[y-1][x+1] != 'X':\n",
    "                arr[y-1][x+1] += 1 # top right\n",
    "        if (x >= 0 and x <= 4) and (y >= 1 and y <= 4):\n",
    "            if arr[y-1][x] != 'X':\n",
    "                arr[y-1][x] += 1 # top center\n",
    " \n",
    "        if (x >=0 and x <= 3) and (y >= 0 and y <= 3):\n",
    "            if arr[y+1][x+1] != 'X':\n",
    "                arr[y+1][x+1] += 1 # bottom right\n",
    "        if (x >= 1 and x <= 4) and (y >= 0 and y <= 3):\n",
    "            if arr[y+1][x-1] != 'X':\n",
    "                arr[y+1][x-1] += 1 # bottom left\n",
    "        if (x >= 0 and x <= 4) and (y >= 0 and y <= 3):\n",
    "            if arr[y+1][x] != 'X':\n",
    "                arr[y+1][x] += 1 # bottom center\n",
    "    for row in arr:\n",
    "        print(\"\\t\".join(str(cell) for cell in row))\n",
    "        print(\"\")\n",
    "if __name__ == \"__main__\":\n",
    "    minesweeper(5)"
   ]
  }
 ],
 "metadata": {
  "kernelspec": {
   "display_name": "Python 3",
   "language": "python",
   "name": "python3"
  },
  "language_info": {
   "codemirror_mode": {
    "name": "ipython",
    "version": 3
   },
   "file_extension": ".py",
   "mimetype": "text/x-python",
   "name": "python",
   "nbconvert_exporter": "python",
   "pygments_lexer": "ipython3",
   "version": "3.8.3"
  }
 },
 "nbformat": 4,
 "nbformat_minor": 4
}
