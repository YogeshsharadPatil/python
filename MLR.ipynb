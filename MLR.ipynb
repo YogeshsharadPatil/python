{
 "cells": [
  {
   "cell_type": "markdown",
   "metadata": {},
   "source": [
    "# implimenting Multiple Linear Regression using matrix operation, OLS and Gradient Descent method...   \n",
    "\n",
    "   Now in this notebook we will see three different methods for implimenting MLR with the data of Student Marks\n",
    "Here the task is predicting End semester exam marks(ESE) on the basis of students Mid semester exam marks(MSE) and his Attendence(Attendance) \n",
    "\n",
    "1) Dependent Variable y is ESE\n",
    "\n",
    "2) Independent Variables are: Attendance (x1), and MSE(x2)\n",
    "\n",
    "3) One more input feature is added called HRS:->NO. of hour a student studied a day before exam(0HRS to 24HRS)\n",
    "\n"
   ]
  },
  {
   "cell_type": "markdown",
   "metadata": {},
   "source": [
    "implementing Libraries:\n",
    "    Here seaborn and matlot libraries implemented for the Data Visualization and statmodels for implenting MLR.   "
   ]
  },
  {
   "cell_type": "markdown",
   "metadata": {},
   "source": [
    "Multivarient Regression using Matrix operation"
   ]
  },
  {
   "cell_type": "code",
   "execution_count": 1,
   "metadata": {},
   "outputs": [],
   "source": [
    "import pandas as pd\n",
    "import numpy as np\n",
    "import seaborn as sns\n",
    "import matplotlib.pyplot as plt\n",
    "import statsmodels.api as sm \n",
    "import math\n"
   ]
  },
  {
   "cell_type": "code",
   "execution_count": 2,
   "metadata": {},
   "outputs": [
    {
     "data": {
      "text/html": [
       "<div>\n",
       "<style scoped>\n",
       "    .dataframe tbody tr th:only-of-type {\n",
       "        vertical-align: middle;\n",
       "    }\n",
       "\n",
       "    .dataframe tbody tr th {\n",
       "        vertical-align: top;\n",
       "    }\n",
       "\n",
       "    .dataframe thead th {\n",
       "        text-align: right;\n",
       "    }\n",
       "</style>\n",
       "<table border=\"1\" class=\"dataframe\">\n",
       "  <thead>\n",
       "    <tr style=\"text-align: right;\">\n",
       "      <th></th>\n",
       "      <th>Attendance</th>\n",
       "      <th>MSE</th>\n",
       "      <th>HRS</th>\n",
       "      <th>ESE</th>\n",
       "    </tr>\n",
       "  </thead>\n",
       "  <tbody>\n",
       "    <tr>\n",
       "      <th>0</th>\n",
       "      <td>70</td>\n",
       "      <td>10</td>\n",
       "      <td>17</td>\n",
       "      <td>42</td>\n",
       "    </tr>\n",
       "    <tr>\n",
       "      <th>1</th>\n",
       "      <td>92</td>\n",
       "      <td>7</td>\n",
       "      <td>20</td>\n",
       "      <td>39</td>\n",
       "    </tr>\n",
       "    <tr>\n",
       "      <th>2</th>\n",
       "      <td>67</td>\n",
       "      <td>3</td>\n",
       "      <td>18</td>\n",
       "      <td>32</td>\n",
       "    </tr>\n",
       "    <tr>\n",
       "      <th>3</th>\n",
       "      <td>82</td>\n",
       "      <td>16</td>\n",
       "      <td>13</td>\n",
       "      <td>50</td>\n",
       "    </tr>\n",
       "    <tr>\n",
       "      <th>4</th>\n",
       "      <td>80</td>\n",
       "      <td>9</td>\n",
       "      <td>10</td>\n",
       "      <td>44</td>\n",
       "    </tr>\n",
       "  </tbody>\n",
       "</table>\n",
       "</div>"
      ],
      "text/plain": [
       "   Attendance  MSE  HRS  ESE\n",
       "0          70   10   17   42\n",
       "1          92    7   20   39\n",
       "2          67    3   18   32\n",
       "3          82   16   13   50\n",
       "4          80    9   10   44"
      ]
     },
     "execution_count": 2,
     "metadata": {},
     "output_type": "execute_result"
    }
   ],
   "source": [
    "df = pd.read_csv(\"amsPredictionSheet1-201009-150447.csv\")\n",
    "df.head()"
   ]
  },
  {
   "cell_type": "code",
   "execution_count": 3,
   "metadata": {},
   "outputs": [
    {
     "data": {
      "text/html": [
       "<div>\n",
       "<style scoped>\n",
       "    .dataframe tbody tr th:only-of-type {\n",
       "        vertical-align: middle;\n",
       "    }\n",
       "\n",
       "    .dataframe tbody tr th {\n",
       "        vertical-align: top;\n",
       "    }\n",
       "\n",
       "    .dataframe thead th {\n",
       "        text-align: right;\n",
       "    }\n",
       "</style>\n",
       "<table border=\"1\" class=\"dataframe\">\n",
       "  <thead>\n",
       "    <tr style=\"text-align: right;\">\n",
       "      <th></th>\n",
       "      <th>Attendance</th>\n",
       "      <th>MSE</th>\n",
       "      <th>HRS</th>\n",
       "      <th>ESE</th>\n",
       "    </tr>\n",
       "  </thead>\n",
       "  <tbody>\n",
       "    <tr>\n",
       "      <th>count</th>\n",
       "      <td>73.000000</td>\n",
       "      <td>73.000000</td>\n",
       "      <td>73.000000</td>\n",
       "      <td>73.000000</td>\n",
       "    </tr>\n",
       "    <tr>\n",
       "      <th>mean</th>\n",
       "      <td>81.698630</td>\n",
       "      <td>9.780822</td>\n",
       "      <td>12.904110</td>\n",
       "      <td>46.630137</td>\n",
       "    </tr>\n",
       "    <tr>\n",
       "      <th>std</th>\n",
       "      <td>9.506847</td>\n",
       "      <td>3.047069</td>\n",
       "      <td>5.701278</td>\n",
       "      <td>6.617542</td>\n",
       "    </tr>\n",
       "    <tr>\n",
       "      <th>min</th>\n",
       "      <td>62.000000</td>\n",
       "      <td>3.000000</td>\n",
       "      <td>2.000000</td>\n",
       "      <td>32.000000</td>\n",
       "    </tr>\n",
       "    <tr>\n",
       "      <th>25%</th>\n",
       "      <td>75.000000</td>\n",
       "      <td>8.000000</td>\n",
       "      <td>8.000000</td>\n",
       "      <td>42.000000</td>\n",
       "    </tr>\n",
       "    <tr>\n",
       "      <th>50%</th>\n",
       "      <td>80.000000</td>\n",
       "      <td>10.000000</td>\n",
       "      <td>14.000000</td>\n",
       "      <td>47.000000</td>\n",
       "    </tr>\n",
       "    <tr>\n",
       "      <th>75%</th>\n",
       "      <td>90.000000</td>\n",
       "      <td>11.000000</td>\n",
       "      <td>18.000000</td>\n",
       "      <td>50.000000</td>\n",
       "    </tr>\n",
       "    <tr>\n",
       "      <th>max</th>\n",
       "      <td>98.000000</td>\n",
       "      <td>17.000000</td>\n",
       "      <td>22.000000</td>\n",
       "      <td>64.000000</td>\n",
       "    </tr>\n",
       "  </tbody>\n",
       "</table>\n",
       "</div>"
      ],
      "text/plain": [
       "       Attendance        MSE        HRS        ESE\n",
       "count   73.000000  73.000000  73.000000  73.000000\n",
       "mean    81.698630   9.780822  12.904110  46.630137\n",
       "std      9.506847   3.047069   5.701278   6.617542\n",
       "min     62.000000   3.000000   2.000000  32.000000\n",
       "25%     75.000000   8.000000   8.000000  42.000000\n",
       "50%     80.000000  10.000000  14.000000  47.000000\n",
       "75%     90.000000  11.000000  18.000000  50.000000\n",
       "max     98.000000  17.000000  22.000000  64.000000"
      ]
     },
     "execution_count": 3,
     "metadata": {},
     "output_type": "execute_result"
    }
   ],
   "source": [
    "df.describe()"
   ]
  },
  {
   "cell_type": "markdown",
   "metadata": {},
   "source": [
    "correlaton analysis signiifies the relation betn differeent rndom variable varable in this case n this cse attendance, mse, and Hrs are input varables where as ese s an outut varable."
   ]
  },
  {
   "cell_type": "code",
   "execution_count": 4,
   "metadata": {},
   "outputs": [
    {
     "data": {
      "text/html": [
       "<style  type=\"text/css\" >\n",
       "    #T_5c1f8499_179c_11eb_9c4a_2839266aeeb8row0_col0 {\n",
       "            background-color:  #b40426;\n",
       "            color:  #f1f1f1;\n",
       "        }    #T_5c1f8499_179c_11eb_9c4a_2839266aeeb8row0_col1 {\n",
       "            background-color:  #3b4cc0;\n",
       "            color:  #f1f1f1;\n",
       "        }    #T_5c1f8499_179c_11eb_9c4a_2839266aeeb8row0_col2 {\n",
       "            background-color:  #3b4cc0;\n",
       "            color:  #f1f1f1;\n",
       "        }    #T_5c1f8499_179c_11eb_9c4a_2839266aeeb8row0_col3 {\n",
       "            background-color:  #3b4cc0;\n",
       "            color:  #f1f1f1;\n",
       "        }    #T_5c1f8499_179c_11eb_9c4a_2839266aeeb8row1_col0 {\n",
       "            background-color:  #506bda;\n",
       "            color:  #000000;\n",
       "        }    #T_5c1f8499_179c_11eb_9c4a_2839266aeeb8row1_col1 {\n",
       "            background-color:  #b40426;\n",
       "            color:  #f1f1f1;\n",
       "        }    #T_5c1f8499_179c_11eb_9c4a_2839266aeeb8row1_col2 {\n",
       "            background-color:  #9dbdff;\n",
       "            color:  #000000;\n",
       "        }    #T_5c1f8499_179c_11eb_9c4a_2839266aeeb8row1_col3 {\n",
       "            background-color:  #f18f71;\n",
       "            color:  #000000;\n",
       "        }    #T_5c1f8499_179c_11eb_9c4a_2839266aeeb8row2_col0 {\n",
       "            background-color:  #3b4cc0;\n",
       "            color:  #f1f1f1;\n",
       "        }    #T_5c1f8499_179c_11eb_9c4a_2839266aeeb8row2_col1 {\n",
       "            background-color:  #89acfd;\n",
       "            color:  #000000;\n",
       "        }    #T_5c1f8499_179c_11eb_9c4a_2839266aeeb8row2_col2 {\n",
       "            background-color:  #b40426;\n",
       "            color:  #f1f1f1;\n",
       "        }    #T_5c1f8499_179c_11eb_9c4a_2839266aeeb8row2_col3 {\n",
       "            background-color:  #a9c6fd;\n",
       "            color:  #000000;\n",
       "        }    #T_5c1f8499_179c_11eb_9c4a_2839266aeeb8row3_col0 {\n",
       "            background-color:  #4961d2;\n",
       "            color:  #f1f1f1;\n",
       "        }    #T_5c1f8499_179c_11eb_9c4a_2839266aeeb8row3_col1 {\n",
       "            background-color:  #f29072;\n",
       "            color:  #000000;\n",
       "        }    #T_5c1f8499_179c_11eb_9c4a_2839266aeeb8row3_col2 {\n",
       "            background-color:  #b3cdfb;\n",
       "            color:  #000000;\n",
       "        }    #T_5c1f8499_179c_11eb_9c4a_2839266aeeb8row3_col3 {\n",
       "            background-color:  #b40426;\n",
       "            color:  #f1f1f1;\n",
       "        }</style><table id=\"T_5c1f8499_179c_11eb_9c4a_2839266aeeb8\" ><thead>    <tr>        <th class=\"blank level0\" ></th>        <th class=\"col_heading level0 col0\" >Attendance</th>        <th class=\"col_heading level0 col1\" >MSE</th>        <th class=\"col_heading level0 col2\" >HRS</th>        <th class=\"col_heading level0 col3\" >ESE</th>    </tr></thead><tbody>\n",
       "                <tr>\n",
       "                        <th id=\"T_5c1f8499_179c_11eb_9c4a_2839266aeeb8level0_row0\" class=\"row_heading level0 row0\" >Attendance</th>\n",
       "                        <td id=\"T_5c1f8499_179c_11eb_9c4a_2839266aeeb8row0_col0\" class=\"data row0 col0\" >1.000000</td>\n",
       "                        <td id=\"T_5c1f8499_179c_11eb_9c4a_2839266aeeb8row0_col1\" class=\"data row0 col1\" >-0.080943</td>\n",
       "                        <td id=\"T_5c1f8499_179c_11eb_9c4a_2839266aeeb8row0_col2\" class=\"data row0 col2\" >-0.165307</td>\n",
       "                        <td id=\"T_5c1f8499_179c_11eb_9c4a_2839266aeeb8row0_col3\" class=\"data row0 col3\" >-0.109972</td>\n",
       "            </tr>\n",
       "            <tr>\n",
       "                        <th id=\"T_5c1f8499_179c_11eb_9c4a_2839266aeeb8level0_row1\" class=\"row_heading level0 row1\" >MSE</th>\n",
       "                        <td id=\"T_5c1f8499_179c_11eb_9c4a_2839266aeeb8row1_col0\" class=\"data row1 col0\" >-0.080943</td>\n",
       "                        <td id=\"T_5c1f8499_179c_11eb_9c4a_2839266aeeb8row1_col1\" class=\"data row1 col1\" >1.000000</td>\n",
       "                        <td id=\"T_5c1f8499_179c_11eb_9c4a_2839266aeeb8row1_col2\" class=\"data row1 col2\" >0.177060</td>\n",
       "                        <td id=\"T_5c1f8499_179c_11eb_9c4a_2839266aeeb8row1_col3\" class=\"data row1 col3\" >0.751530</td>\n",
       "            </tr>\n",
       "            <tr>\n",
       "                        <th id=\"T_5c1f8499_179c_11eb_9c4a_2839266aeeb8level0_row2\" class=\"row_heading level0 row2\" >HRS</th>\n",
       "                        <td id=\"T_5c1f8499_179c_11eb_9c4a_2839266aeeb8row2_col0\" class=\"data row2 col0\" >-0.165307</td>\n",
       "                        <td id=\"T_5c1f8499_179c_11eb_9c4a_2839266aeeb8row2_col1\" class=\"data row2 col1\" >0.177060</td>\n",
       "                        <td id=\"T_5c1f8499_179c_11eb_9c4a_2839266aeeb8row2_col2\" class=\"data row2 col2\" >1.000000</td>\n",
       "                        <td id=\"T_5c1f8499_179c_11eb_9c4a_2839266aeeb8row2_col3\" class=\"data row2 col3\" >0.255632</td>\n",
       "            </tr>\n",
       "            <tr>\n",
       "                        <th id=\"T_5c1f8499_179c_11eb_9c4a_2839266aeeb8level0_row3\" class=\"row_heading level0 row3\" >ESE</th>\n",
       "                        <td id=\"T_5c1f8499_179c_11eb_9c4a_2839266aeeb8row3_col0\" class=\"data row3 col0\" >-0.109972</td>\n",
       "                        <td id=\"T_5c1f8499_179c_11eb_9c4a_2839266aeeb8row3_col1\" class=\"data row3 col1\" >0.751530</td>\n",
       "                        <td id=\"T_5c1f8499_179c_11eb_9c4a_2839266aeeb8row3_col2\" class=\"data row3 col2\" >0.255632</td>\n",
       "                        <td id=\"T_5c1f8499_179c_11eb_9c4a_2839266aeeb8row3_col3\" class=\"data row3 col3\" >1.000000</td>\n",
       "            </tr>\n",
       "    </tbody></table>"
      ],
      "text/plain": [
       "<pandas.io.formats.style.Styler at 0x20879216d90>"
      ]
     },
     "execution_count": 4,
     "metadata": {},
     "output_type": "execute_result"
    }
   ],
   "source": [
    "corr=df.corr()\n",
    "corr.style.background_gradient(cmap='coolwarm')"
   ]
  },
  {
   "cell_type": "markdown",
   "metadata": {},
   "source": [
    "now we will seperate input vectors from output vectors and add one constant unit vector for the value of bita zero."
   ]
  },
  {
   "cell_type": "code",
   "execution_count": 5,
   "metadata": {},
   "outputs": [
    {
     "name": "stdout",
     "output_type": "stream",
     "text": [
      "    const  MSE  Attendance  HRS\n",
      "0     1.0   10          70   17\n",
      "1     1.0    7          92   20\n",
      "2     1.0    3          67   18\n",
      "3     1.0   16          82   13\n",
      "4     1.0    9          80   10\n",
      "..    ...  ...         ...  ...\n",
      "68    1.0   10          80   19\n",
      "69    1.0    8          78   18\n",
      "70    1.0    9          92    8\n",
      "71    1.0   11          78    6\n",
      "72    1.0   12          78   20\n",
      "\n",
      "[73 rows x 4 columns]\n"
     ]
    }
   ],
   "source": [
    "endog = df['ESE']\n",
    "exog = sm.add_constant(df[['MSE','Attendance','HRS']])\n",
    "print(exog)"
   ]
  },
  {
   "cell_type": "markdown",
   "metadata": {},
   "source": [
    "To do the matrx operation we have to convert the data frame into numpy array  in whiich we can perform matric operation. \n",
    "here we have converted the input vectore as numpy array in x and output vector n y.\n",
    "for getting the transposee of the amtricx we have method called np.transpose().\n"
   ]
  },
  {
   "cell_type": "code",
   "execution_count": 6,
   "metadata": {},
   "outputs": [
    {
     "name": "stdout",
     "output_type": "stream",
     "text": [
      "[[ 1.  1.  1.  1.  1.  1.  1.  1.  1.  1.  1.  1.  1.  1.  1.  1.  1.  1.\n",
      "   1.  1.  1.  1.  1.  1.  1.  1.  1.  1.  1.  1.  1.  1.  1.  1.  1.  1.\n",
      "   1.  1.  1.  1.  1.  1.  1.  1.  1.  1.  1.  1.  1.  1.  1.  1.  1.  1.\n",
      "   1.  1.  1.  1.  1.  1.  1.  1.  1.  1.  1.  1.  1.  1.  1.  1.  1.  1.\n",
      "   1.]\n",
      " [10.  7.  3. 16.  9. 11.  7. 10.  8.  8.  8. 12.  4.  7. 15. 12.  6.  9.\n",
      "  10.  7. 13.  5.  8. 12. 17. 11. 10. 16. 17. 12. 11. 13. 11. 10.  7.  6.\n",
      "   9.  9. 12. 11.  6.  7. 14. 12. 10. 14.  5.  6. 11.  9.  9.  8.  9.  6.\n",
      "  10. 17. 11. 11. 10.  8.  7.  7. 10. 11.  7. 12.  8. 10. 10.  8.  9. 11.\n",
      "  12.]\n",
      " [70. 92. 67. 82. 80. 72. 85. 75. 80. 70. 85. 65. 70. 75. 80. 85. 75. 68.\n",
      "  65. 95. 90. 78. 78. 80. 85. 95. 78. 79. 65. 98. 98. 68. 88. 75. 88. 88.\n",
      "  88. 90. 75. 98. 95. 98. 78. 95. 75. 77. 85. 70. 95. 95. 75. 90. 90. 96.\n",
      "  94. 80. 75. 78. 82. 80. 80. 92. 85. 68. 88. 80. 62. 82. 80. 78. 92. 78.\n",
      "  78.]\n",
      " [17. 20. 18. 13. 10. 16. 18. 14. 14. 14. 16. 17. 17. 19. 20. 19. 15. 22.\n",
      "  19. 20. 12.  8.  2.  2. 20. 12.  5. 20. 14. 11.  9. 14. 14. 11.  3.  4.\n",
      "   7. 13. 13. 20.  5.  4.  8.  6.  5.  5.  8.  9. 20.  8.  7.  8. 20. 12.\n",
      "  13. 18.  6. 20. 21.  7. 12. 15. 14.  9.  5. 18. 16. 20. 19. 18.  8.  6.\n",
      "  20.]]\n"
     ]
    }
   ],
   "source": [
    "x = exog.to_numpy()\n",
    "y = endog.to_numpy()\n",
    "s1_xt=np.transpose(x)\n",
    "print(s1_xt)"
   ]
  },
  {
   "cell_type": "code",
   "execution_count": 7,
   "metadata": {},
   "outputs": [
    {
     "name": "stdout",
     "output_type": "stream",
     "text": [
      "[[7.30000e+01 7.14000e+02 5.96400e+03 9.42000e+02]\n",
      " [7.14000e+02 7.65200e+03 5.81640e+04 9.43500e+03]\n",
      " [5.96400e+03 5.81640e+04 4.93758e+05 7.63150e+04]\n",
      " [9.42000e+02 9.43500e+03 7.63150e+04 1.44960e+04]]\n"
     ]
    }
   ],
   "source": [
    "s2_mull=np.matmul(s1_xt,x)\n",
    "print(s2_mull)"
   ]
  },
  {
   "cell_type": "markdown",
   "metadata": {},
   "source": [
    "next step is calculate inverse if the result for that numpy provde one method called np.linalg.inv()"
   ]
  },
  {
   "cell_type": "code",
   "execution_count": 8,
   "metadata": {},
   "outputs": [
    {
     "name": "stdout",
     "output_type": "stream",
     "text": [
      "[[ 1.38842078e+00 -1.55046712e-02 -1.37334738e-02 -7.83221221e-03]\n",
      " [-1.55046712e-02  1.54870518e-03  2.63702672e-05 -1.39285323e-04]\n",
      " [-1.37334738e-02  2.63702672e-05  1.58438230e-04  4.11779368e-05]\n",
      " [-7.83221221e-03 -1.39285323e-04  4.11779368e-05  4.51821652e-04]]\n"
     ]
    }
   ],
   "source": [
    "s3_inv = np.linalg.inv(s2_mull)\n",
    "print(s3_inv)"
   ]
  },
  {
   "cell_type": "markdown",
   "metadata": {},
   "source": [
    "next step is multply this inv with transpose of the input matrix"
   ]
  },
  {
   "cell_type": "code",
   "execution_count": 9,
   "metadata": {},
   "outputs": [
    {
     "name": "stdout",
     "output_type": "stream",
     "text": [
      "[[ 1.38883294e-01 -1.40235753e-01  2.80784202e-01 -8.76175706e-02\n",
      "   7.18787124e-02  1.03743887e-01 -2.84370119e-02  9.37125614e-02\n",
      "   5.60545348e-02  1.93389273e-01 -2.82772588e-02  1.76541321e-01\n",
      "   2.31911321e-01  1.01065514e-01 -9.94714372e-02 -1.13792580e-01\n",
      "   1.47899034e-01  1.42693852e-01  1.91886239e-01 -1.81436175e-01\n",
      "  -1.43139135e-01  1.77028769e-01  1.77508029e-01  8.80223963e-02\n",
      "  -1.99148149e-01 -1.80797162e-01  1.23002050e-01 -1.01242635e-01\n",
      "   1.22514601e-01 -2.29670042e-01 -1.98500947e-01  1.43332864e-01\n",
      "  -1.00327270e-01  1.17209198e-01  4.78457497e-02  5.55182088e-02\n",
      "  -1.44924416e-02 -8.89526625e-02  7.05354311e-02 -2.84655281e-01\n",
      "  -4.84483202e-02 -9.73212007e-02  3.74867282e-02 -1.49308560e-01\n",
      "   1.64202471e-01  7.47168387e-02  8.08944526e-02  2.63559677e-01\n",
      "  -2.43454860e-01 -1.18458971e-01  1.64042718e-01 -3.42869302e-02\n",
      "  -1.43778148e-01 -1.17007279e-01 -1.59391229e-01 -1.14816355e-01\n",
      "   1.40865588e-01 -9.98580456e-03 -5.72472408e-02  1.10880020e-01\n",
      "   8.72236304e-02 -1.01074692e-01 -4.36221768e-02  2.13503268e-01\n",
      "   3.21813253e-02 -3.72929990e-02  2.87592639e-01 -4.94150286e-02\n",
      "  -1.41158688e-02  5.21926336e-02 -7.72585491e-02  9.96651664e-02\n",
      "  -2.54904758e-02]\n",
      " [-5.39551189e-04 -5.02337683e-03 -1.15988836e-02  9.62626441e-03\n",
      "  -8.49556440e-04  1.20117985e-03 -4.92939806e-03  1.01561159e-05\n",
      "  -2.95540292e-03 -3.21910559e-03 -3.10212223e-03  2.42600784e-03\n",
      "  -9.83178229e-03 -5.33238605e-03  7.04982143e-03  2.67484254e-03\n",
      "  -6.32394994e-03 -2.83742352e-03 -9.49973171e-04 -4.94426603e-03\n",
      "   5.33039632e-03 -6.81854707e-03 -1.33671958e-03  4.91084170e-03\n",
      "   1.02790831e-02  2.36483729e-03  1.34283482e-03  8.57215635e-03\n",
      "   1.05873897e-02  4.13193860e-03  2.86180406e-03  4.47167980e-03\n",
      "   1.90167477e-03  4.28012085e-04 -2.76100741e-03 -4.44899792e-03\n",
      "  -2.20738334e-04 -1.00370974e-03  3.24685181e-03  1.32966551e-03\n",
      "  -4.40369137e-03 -2.63659006e-03  7.11979959e-03  4.74925441e-03\n",
      "   1.26372402e-03  7.51128529e-03 -6.63395520e-03 -5.62008934e-03\n",
      "   1.25055471e-03 -1.75431787e-04 -5.63551807e-04 -1.85598831e-03\n",
      "  -1.97870700e-03 -5.35231836e-03  6.50476515e-04  1.04258024e-02\n",
      "   2.67314388e-03  8.02260164e-04 -7.80249275e-04 -1.98040566e-03\n",
      "  -4.22553745e-03 -4.32695022e-03  2.73858788e-04  2.07069604e-03\n",
      "  -3.03957806e-03  2.68227653e-03 -3.70863837e-03 -6.40963952e-04\n",
      "  -5.54419163e-04 -3.56528474e-03 -2.54542588e-04  2.75225469e-03\n",
      "   2.35096535e-03]\n",
      " [-1.67907015e-03  1.85099391e-03 -2.29779877e-03  2.15698464e-04\n",
      "  -4.09303676e-04 -1.37700136e-03  6.59570433e-04 -1.01041281e-03\n",
      "  -2.70962195e-04 -1.85534449e-03  6.03584827e-04 -2.41852076e-03\n",
      "  -1.83729175e-03 -8.83633927e-04  1.60697296e-04  8.32599706e-04\n",
      "  -1.07471594e-03 -1.81642719e-03 -2.38890542e-03  2.32630860e-03\n",
      "   1.36291556e-03 -9.14017077e-04 -1.08197390e-03 -6.59616369e-04\n",
      "   1.00562898e-03  2.10236618e-03 -9.05699552e-04  2.86293333e-05\n",
      "  -2.41020324e-03  2.56287320e-03  2.45414706e-03 -2.04036962e-03\n",
      "   1.07565444e-03 -1.13394662e-03  5.17216070e-04  5.32023739e-04\n",
      "   7.34668351e-04  1.29861243e-03 -9.98850212e-04  2.90710436e-03\n",
      "   1.68226928e-03  2.14277630e-03 -6.76684673e-04  1.88166882e-03\n",
      "  -1.38101424e-03 -9.58656713e-04  1.95050530e-04 -2.11397471e-03\n",
      "   2.43178967e-03  1.88491390e-03 -1.32502863e-03  1.06635248e-03\n",
      "   1.58685799e-03  2.12895307e-03  1.95873562e-03  1.31081956e-04\n",
      "  -1.31346604e-03 -2.61660232e-04  3.86900356e-04 -5.59207753e-04\n",
      "  -3.79688336e-04  1.64510423e-03  5.73969487e-04 -2.29899983e-03\n",
      "   5.99571943e-04 -7.69379395e-07 -3.04049446e-03  3.45722419e-04\n",
      "  -1.23319769e-05 -4.23126907e-04  1.40959921e-03 -8.38151348e-04\n",
      "  -2.35289965e-04]\n",
      " [ 1.33835823e-03  4.01759377e-03  2.64164333e-03 -8.10505075e-04\n",
      "  -1.27332864e-03  8.29607129e-04  2.82570491e-03  1.88782958e-04\n",
      "   6.73243288e-04  2.61463920e-04  1.78277628e-03  8.53897901e-04\n",
      "   2.17407017e-03  2.86574719e-03  2.40917594e-03  2.58109994e-03\n",
      "   1.19774590e-03  3.65439594e-03  2.03611185e-03  4.14112758e-03\n",
      "  -5.15047264e-04 -1.70218653e-03 -4.83097242e-03 -5.30575783e-03\n",
      "   2.33649498e-03 -3.05869334e-05 -3.75407810e-03  2.22871268e-03\n",
      "  -1.19799367e-03 -4.98160098e-04 -1.26251808e-03 -5.17318569e-04\n",
      "   5.84810814e-04 -1.16668200e-03 -3.82808607e-03 -3.23697910e-03\n",
      "  -2.29937011e-03  4.93915681e-04 -5.41609341e-04  3.70752010e-03\n",
      "  -2.49691189e-03 -2.96448505e-03 -2.95575444e-03 -2.88080217e-03\n",
      "  -3.87761191e-03 -4.35239733e-03 -1.41394097e-03 -1.71907370e-03\n",
      "   3.58398629e-03 -1.55930290e-03 -2.83468329e-03 -1.62590726e-03\n",
      "   3.65666725e-03  7.07017618e-04  5.19342105e-04  1.22696199e-03\n",
      "  -3.56507559e-03  2.88396136e-03  3.63978008e-03 -2.48950828e-03\n",
      "  -9.11146940e-05  1.75848551e-03  6.00562326e-04 -2.49785619e-03\n",
      "  -2.92444277e-03  1.92338861e-03  8.35683730e-04  3.18795843e-03\n",
      "   2.65378090e-03  2.39817402e-03 -1.68283671e-03 -3.44154177e-03\n",
      "   2.74467604e-03]]\n"
     ]
    }
   ],
   "source": [
    "s4_mul = np.matmul(s3_inv,s1_xt)\n",
    "print(s4_mul)"
   ]
  },
  {
   "cell_type": "code",
   "execution_count": 10,
   "metadata": {},
   "outputs": [
    {
     "name": "stdout",
     "output_type": "stream",
     "text": [
      "[ 3.11156436e+01  1.57990739e+00 -2.15574027e-02  1.41265918e-01]\n"
     ]
    }
   ],
   "source": [
    "s5_res = np.matmul(s4_mul,y)\n",
    "print(s5_res)"
   ]
  },
  {
   "cell_type": "code",
   "execution_count": null,
   "metadata": {},
   "outputs": [],
   "source": []
  }
 ],
 "metadata": {
  "kernelspec": {
   "display_name": "Python 3",
   "language": "python",
   "name": "python3"
  },
  "language_info": {
   "codemirror_mode": {
    "name": "ipython",
    "version": 3
   },
   "file_extension": ".py",
   "mimetype": "text/x-python",
   "name": "python",
   "nbconvert_exporter": "python",
   "pygments_lexer": "ipython3",
   "version": "3.8.3"
  }
 },
 "nbformat": 4,
 "nbformat_minor": 4
}
