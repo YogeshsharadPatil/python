{
 "cells": [
  {
   "cell_type": "markdown",
   "metadata": {},
   "source": [
    "#### Compound Interest\n",
    "A = P(1 + R/100) t\n",
    "Compoud Interest = A-p\n",
    "\n",
    "A ->> Amount\n",
    "\n",
    "p->> Principle amount\n",
    "\n",
    "r->> Rate"
   ]
  },
  {
   "cell_type": "code",
   "execution_count": 3,
   "metadata": {},
   "outputs": [
    {
     "name": "stdout",
     "output_type": "stream",
     "text": [
      "Enter principle amount 1000\n",
      "Enter rate 3\n",
      "Enter time 12\n",
      "1425.7608868461793\n"
     ]
    }
   ],
   "source": [
    "p = int(input(\"Enter principle amount \"))\n",
    "r = int(input(\"Enter rate \"))\n",
    "t = int(input(\"Enter time \"))\n",
    "A = p*(pow((1+r/100),t))\n",
    "print(A)"
   ]
  },
  {
   "cell_type": "code",
   "execution_count": null,
   "metadata": {},
   "outputs": [],
   "source": []
  }
 ],
 "metadata": {
  "kernelspec": {
   "display_name": "Python 3",
   "language": "python",
   "name": "python3"
  },
  "language_info": {
   "codemirror_mode": {
    "name": "ipython",
    "version": 3
   },
   "file_extension": ".py",
   "mimetype": "text/x-python",
   "name": "python",
   "nbconvert_exporter": "python",
   "pygments_lexer": "ipython3",
   "version": "3.8.3"
  }
 },
 "nbformat": 4,
 "nbformat_minor": 4
}
