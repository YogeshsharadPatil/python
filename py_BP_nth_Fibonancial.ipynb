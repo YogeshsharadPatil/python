{
 "cells": [
  {
   "cell_type": "code",
   "execution_count": 1,
   "metadata": {},
   "outputs": [
    {
     "name": "stdout",
     "output_type": "stream",
     "text": [
      "Enter at which number you want the  fibonanci series: 5\n",
      "0,1,1,2,3,"
     ]
    }
   ],
   "source": [
    "n = int(input(\"Enter at which number you want the  fibonanci series: \"))     \n",
    "\n",
    "def fib(n):\n",
    "    a = 0\n",
    "    b = 1\n",
    "    if (n==1):\n",
    "        print(a)\n",
    "    else:\n",
    "        print(a,end=\",\")\n",
    "        print(b,end=\",\")\n",
    "        for i in range(2,n):\n",
    "            c = a + b\n",
    "            a = b\n",
    "            b = c\n",
    "            print(c,end =\",\")\n",
    "            \n",
    "            \n",
    "fib(n)\n"
   ]
  },
  {
   "cell_type": "code",
   "execution_count": 1,
   "metadata": {},
   "outputs": [
    {
     "name": "stdout",
     "output_type": "stream",
     "text": [
      "current_no_of_flights 211\n"
     ]
    }
   ],
   "source": [
    "no_of_landings=356\n",
    "no_of_takeoffs=245\n",
    "initial_no_of_flights=100\n",
    "current_no_of_flights=initial_no_of_flights+no_of_landings-no_of_takeoffs\n",
    "print(\"current_no_of_flights\",current_no_of_flights)"
   ]
  },
  {
   "cell_type": "code",
   "execution_count": null,
   "metadata": {},
   "outputs": [],
   "source": []
  }
 ],
 "metadata": {
  "kernelspec": {
   "display_name": "Python 3",
   "language": "python",
   "name": "python3"
  },
  "language_info": {
   "codemirror_mode": {
    "name": "ipython",
    "version": 3
   },
   "file_extension": ".py",
   "mimetype": "text/x-python",
   "name": "python",
   "nbconvert_exporter": "python",
   "pygments_lexer": "ipython3",
   "version": "3.8.3"
  }
 },
 "nbformat": 4,
 "nbformat_minor": 4
}
