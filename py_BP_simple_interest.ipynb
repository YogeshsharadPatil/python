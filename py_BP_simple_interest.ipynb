{
 "cells": [
  {
   "cell_type": "markdown",
   "metadata": {},
   "source": [
    "#### Simple interest Formula\n",
    "interest = (p*t*r)/100\n",
    "where \n",
    "p->>princple amount\n",
    "t->>Time\n",
    "r->>Rate"
   ]
  },
  {
   "cell_type": "code",
   "execution_count": null,
   "metadata": {},
   "outputs": [],
   "source": [
    "p = float(input(\"Enter principle Amount  :\"))\n",
    "t = float(input(\"Enter Time Period of Amount :\"))\n",
    "r = float(input(\"Enter Rate in percentage :\"))\n",
    "\n",
    "interest = (p*t*r)/100\n",
    "print(\"interest Over that amount is :\",interest)\n"
   ]
  },
  {
   "cell_type": "code",
   "execution_count": null,
   "metadata": {},
   "outputs": [],
   "source": []
  }
 ],
 "metadata": {
  "kernelspec": {
   "display_name": "Python 3",
   "language": "python",
   "name": "python3"
  },
  "language_info": {
   "codemirror_mode": {
    "name": "ipython",
    "version": 3
   },
   "file_extension": ".py",
   "mimetype": "text/x-python",
   "name": "python",
   "nbconvert_exporter": "python",
   "pygments_lexer": "ipython3",
   "version": "3.8.3"
  }
 },
 "nbformat": 4,
 "nbformat_minor": 4
}
