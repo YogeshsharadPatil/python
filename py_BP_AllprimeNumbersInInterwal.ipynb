{
 "cells": [
  {
   "cell_type": "code",
   "execution_count": 1,
   "metadata": {},
   "outputs": [
    {
     "name": "stdout",
     "output_type": "stream",
     "text": [
      "Enter starting Number :5\n",
      "Enter Ending Number :11\n",
      "5,7,11,"
     ]
    }
   ],
   "source": [
    "start = int(input(\"Enter starting Number :\"))\n",
    "end = int(input(\"Enter Ending Number :\"))\n",
    "for i in range(start,end+1):\n",
    "    for j in range(2,i):\n",
    "        if (i%j) == 0:\n",
    "            break\n",
    "    else:\n",
    "        print(i,end = ',')\n",
    "    \n",
    "            "
   ]
  },
  {
   "cell_type": "code",
   "execution_count": null,
   "metadata": {},
   "outputs": [],
   "source": []
  }
 ],
 "metadata": {
  "kernelspec": {
   "display_name": "Python 3",
   "language": "python",
   "name": "python3"
  },
  "language_info": {
   "codemirror_mode": {
    "name": "ipython",
    "version": 3
   },
   "file_extension": ".py",
   "mimetype": "text/x-python",
   "name": "python",
   "nbconvert_exporter": "python",
   "pygments_lexer": "ipython3",
   "version": "3.8.3"
  }
 },
 "nbformat": 4,
 "nbformat_minor": 4
}
