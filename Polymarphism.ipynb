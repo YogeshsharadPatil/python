{
 "cells": [
  {
   "cell_type": "markdown",
   "metadata": {},
   "source": [
    "# What is Polymarphism:\n",
    "        --> Some times object comes in many types of forms\n",
    "        --> If we have a button , there are different draw outputs(round button,check button ,button with image) but they do same work\n",
    "        --> we Access using same methods.i.e. to perform one thing can have different methods . This concept is called polymarphism"
   ]
  },
  {
   "cell_type": "markdown",
   "metadata": {},
   "source": [
    "#### 1) Method Overloading\n",
    "####  2)Method Overriding"
   ]
  },
  {
   "cell_type": "markdown",
   "metadata": {},
   "source": [
    "#### 1) Method Overloading:\n",
    "        --> Override means having two methods with the same name but doing different task\n",
    "        ---> it means that one of the methods overrides the other"
   ]
  },
  {
   "cell_type": "code",
   "execution_count": 1,
   "metadata": {},
   "outputs": [
    {
     "name": "stdout",
     "output_type": "stream",
     "text": [
      "10.5\n",
      "10\n"
     ]
    }
   ],
   "source": [
    "# overriding methods\n",
    "\n",
    "class Bank():\n",
    "    def rateofInterest(self):\n",
    "        return 10\n",
    "    \n",
    "class SBI(Bank):\n",
    "    def rateofInterest(self):\n",
    "        return 10.5\n",
    "    \n",
    "    \n",
    "obj=SBI()\n",
    "print(obj.rateofInterest())\n",
    "\n",
    "obj1=Bank()\n",
    "print(obj1.rateofInterest())\n"
   ]
  },
  {
   "cell_type": "markdown",
   "metadata": {},
   "source": [
    "####  2)Method Overriding\n",
    "    -->  In python we can define method in a such a way that there are multiple ways to cll it\n",
    "    -->Given a single method or fn we can we can specify no. of parameters our self"
   ]
  },
  {
   "cell_type": "code",
   "execution_count": 5,
   "metadata": {},
   "outputs": [
    {
     "name": "stdout",
     "output_type": "stream",
     "text": [
      "HelloYogesh\n",
      "Hello\n"
     ]
    }
   ],
   "source": [
    "# Overloading methods\n",
    "class Human:\n",
    "    def sayhello(self,name=None):\n",
    "        if name is not None:\n",
    "            print(\"Hello\" + name)\n",
    "        else:\n",
    "            print(\"Hello\")\n",
    "            \n",
    "\n",
    "            \n",
    "obj = Human()\n",
    "obj.sayhello('Yogesh')\n",
    "obj.sayhello()\n"
   ]
  },
  {
   "cell_type": "code",
   "execution_count": null,
   "metadata": {},
   "outputs": [],
   "source": []
  }
 ],
 "metadata": {
  "kernelspec": {
   "display_name": "Python 3",
   "language": "python",
   "name": "python3"
  },
  "language_info": {
   "codemirror_mode": {
    "name": "ipython",
    "version": 3
   },
   "file_extension": ".py",
   "mimetype": "text/x-python",
   "name": "python",
   "nbconvert_exporter": "python",
   "pygments_lexer": "ipython3",
   "version": "3.8.3"
  }
 },
 "nbformat": 4,
 "nbformat_minor": 4
}
