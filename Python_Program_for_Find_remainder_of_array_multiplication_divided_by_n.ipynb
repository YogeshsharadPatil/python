{
 "cells": [
  {
   "cell_type": "code",
   "execution_count": null,
   "metadata": {},
   "outputs": [],
   "source": [
    "# accesing array elements\n",
    "arr = [4,5,6,7,8,9]\n",
    "print(\"First method\")\n",
    "for i in arr:\n",
    "    print(i,end=',')\n",
    "\n",
    "print(\"Second method\")\n",
    "n = len(arr)\n",
    "print(\"len\",n)\n",
    "for i in range(n):\n",
    "    print(arr[i],end = \",\")\n"
   ]
  },
  {
   "cell_type": "code",
   "execution_count": null,
   "metadata": {},
   "outputs": [],
   "source": [
    "arr = [4,5,6]\n",
    "n = len(arr)\n",
    "mul = 1\n",
    "divider=8\n",
    "for i in range(n):\n",
    "    mul = mul*arr[i]\n",
    "    \n",
    "    \n",
    "print(\"Multipication of array element is: \",mul)\n",
    "remainder = mul%divider\n",
    "print(\"Remainder is: \",remainder)\n",
    "    \n",
    "\n"
   ]
  },
  {
   "cell_type": "code",
   "execution_count": 4,
   "metadata": {},
   "outputs": [
    {
     "name": "stdout",
     "output_type": "stream",
     "text": [
      "Enter length of array: 5\n",
      "Enter Next element: 1\n",
      "Enter Next element: 2\n",
      "Enter Next element: 3\n",
      "Enter Next element: 4\n",
      "Enter Next element: 5\n",
      "array('i', [1, 2, 3, 4, 5])\n",
      "Enter divider: 5\n",
      "Multiplication of array:  120\n",
      "Remainder is:  0\n"
     ]
    }
   ],
   "source": [
    "#taking array elements from user\n",
    "from array import *\n",
    "arr = array('i',[])\n",
    "l = int(input(\"Enter length of array: \")) \n",
    "for i in range(l):\n",
    "    x = int(input(\"Enter Next element: \"))\n",
    "    arr.append(x)\n",
    "# printing the array values    \n",
    "print(arr)\n",
    "\n",
    "mul = 1\n",
    "div = int(input(\"Enter divider: \"))\n",
    "for i in range(l):\n",
    "    mul = mul*arr[i]\n",
    "\n",
    "    \n",
    "print(\"Multiplication of array: \",mul)\n",
    "remainder = mul%div\n",
    "print(\"Remainder is: \",remainder)\n",
    "\n"
   ]
  },
  {
   "cell_type": "code",
   "execution_count": null,
   "metadata": {},
   "outputs": [],
   "source": []
  }
 ],
 "metadata": {
  "kernelspec": {
   "display_name": "Python 3",
   "language": "python",
   "name": "python3"
  },
  "language_info": {
   "codemirror_mode": {
    "name": "ipython",
    "version": 3
   },
   "file_extension": ".py",
   "mimetype": "text/x-python",
   "name": "python",
   "nbconvert_exporter": "python",
   "pygments_lexer": "ipython3",
   "version": "3.8.3"
  }
 },
 "nbformat": 4,
 "nbformat_minor": 4
}
