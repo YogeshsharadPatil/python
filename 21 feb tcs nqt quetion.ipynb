{
 "cells": [
  {
   "cell_type": "code",
   "execution_count": 12,
   "metadata": {},
   "outputs": [
    {
     "name": "stdout",
     "output_type": "stream",
     "text": [
      "Enter radius of a circle:- 22\n",
      "area of circle is 1520.49\n"
     ]
    }
   ],
   "source": [
    "rad = float(input(\"Enter radius of a circle:- \"))\n",
    "pi = 3.1415\n",
    "if (rad<=20 or rad>=30):\n",
    "    print(\"Wrong display output\")\n",
    "    \n",
    "else:\n",
    "    area = pi*rad*rad\n",
    "    print('area of circle is {0:.2f}'.format(area))# format fn to print upto n decimal"
   ]
  },
  {
   "cell_type": "code",
   "execution_count": null,
   "metadata": {},
   "outputs": [],
   "source": []
  }
 ],
 "metadata": {
  "kernelspec": {
   "display_name": "Python 3",
   "language": "python",
   "name": "python3"
  },
  "language_info": {
   "codemirror_mode": {
    "name": "ipython",
    "version": 3
   },
   "file_extension": ".py",
   "mimetype": "text/x-python",
   "name": "python",
   "nbconvert_exporter": "python",
   "pygments_lexer": "ipython3",
   "version": "3.8.3"
  }
 },
 "nbformat": 4,
 "nbformat_minor": 4
}
